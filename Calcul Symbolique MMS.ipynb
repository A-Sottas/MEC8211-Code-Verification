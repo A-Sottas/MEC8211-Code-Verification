{
 "cells": [
  {
   "cell_type": "code",
   "execution_count": 52,
   "id": "07cd2ebf",
   "metadata": {},
   "outputs": [],
   "source": [
    "import sympy as sb\n",
    "import matplotlib.pyplot as plt\n",
    "import numpy as np\n",
    "sb.init_printing()\n",
    "%matplotlib inline"
   ]
  },
  {
   "cell_type": "code",
   "execution_count": 33,
   "id": "9aa3a770",
   "metadata": {},
   "outputs": [
    {
     "data": {
      "image/png": "[encoded data removed]",
      "text/latex": [
       "$\\displaystyle Ce + \\frac{t \\left(1 - \\frac{r^{2}}{R^{2}}\\right) \\cos{\\left(r \\right)}}{dt}$"
      ],
      "text/plain": [
       "       ⎛     2⎞       \n",
       "       ⎜    r ⎟       \n",
       "     t⋅⎜1 - ──⎟⋅cos(r)\n",
       "       ⎜     2⎟       \n",
       "       ⎝    R ⎠       \n",
       "Ce + ─────────────────\n",
       "             dt       "
      ]
     },
     "execution_count": 33,
     "metadata": {},
     "output_type": "execute_result"
    }
   ],
   "source": [
    "t,r=sb.symbols(\"t,r\")\n",
    "dt=sb.symbols(\"dt\")\n",
    "Ce,R=sb.symbols(\"Ce,R\")\n",
    "D_eff,k=sb.symbols(\"D_eff,k\")\n",
    "\n",
    "Eq_MMS=Ce+(t/dt*sb.cos(r))*(1-(r/R)**2)\n",
    "Eq_MMS"
   ]
  },
  {
   "cell_type": "code",
   "execution_count": 34,
   "id": "0baacd54",
   "metadata": {},
   "outputs": [
    {
     "data": {
      "image/png": "[encoded data removed]",
      "text/latex": [
       "$\\displaystyle \\frac{t \\left(- 2 r \\cos{\\left(r \\right)} + \\left(- R^{2} + r^{2}\\right) \\sin{\\left(r \\right)}\\right)}{R^{2} dt}$"
      ],
      "text/plain": [
       "  ⎛              ⎛   2    2⎞       ⎞\n",
       "t⋅⎝-2⋅r⋅cos(r) + ⎝- R  + r ⎠⋅sin(r)⎠\n",
       "────────────────────────────────────\n",
       "                2                   \n",
       "               R ⋅dt                "
      ]
     },
     "execution_count": 34,
     "metadata": {},
     "output_type": "execute_result"
    }
   ],
   "source": [
    "drEq_MMS=sb.diff(Eq_MMS,r).simplify()\n",
    "drEq_MMS"
   ]
  },
  {
   "cell_type": "markdown",
   "id": "7981015d",
   "metadata": {},
   "source": [
    "Calcul L(û) pour obtenir le terme source :"
   ]
  },
  {
   "cell_type": "code",
   "execution_count": 35,
   "id": "a64ff715",
   "metadata": {},
   "outputs": [
    {
     "data": {
      "image/png": "[encoded data removed]",
      "text/latex": [
       "$\\displaystyle \\frac{D_{eff} t \\left(R^{2} r \\cos{\\left(r \\right)} + R^{2} \\sin{\\left(r \\right)} - r^{3} \\cos{\\left(r \\right)} - 5 r^{2} \\sin{\\left(r \\right)} + 4 r \\cos{\\left(r \\right)}\\right) + r \\left(k \\left(Ce R^{2} dt + t \\left(R^{2} - r^{2}\\right) \\cos{\\left(r \\right)}\\right) + \\left(R^{2} - r^{2}\\right) \\cos{\\left(r \\right)}\\right)}{R^{2} dt r}$"
      ],
      "text/plain": [
       "        ⎛ 2             2           3             2                    ⎞     ⎛\n",
       "D_eff⋅t⋅⎝R ⋅r⋅cos(r) + R ⋅sin(r) - r ⋅cos(r) - 5⋅r ⋅sin(r) + 4⋅r⋅cos(r)⎠ + r⋅⎝\n",
       "──────────────────────────────────────────────────────────────────────────────\n",
       "                                                               2              \n",
       "                                                              R ⋅dt⋅r         \n",
       "\n",
       "  ⎛    2        ⎛ 2    2⎞       ⎞   ⎛ 2    2⎞       ⎞\n",
       "k⋅⎝Ce⋅R ⋅dt + t⋅⎝R  - r ⎠⋅cos(r)⎠ + ⎝R  - r ⎠⋅cos(r)⎠\n",
       "─────────────────────────────────────────────────────\n",
       "                                                     \n",
       "                                                     "
      ]
     },
     "execution_count": 35,
     "metadata": {},
     "output_type": "execute_result"
    }
   ],
   "source": [
    "MMS=Eq_MMS.diff(t)-D_eff*(Eq_MMS.diff(r,2)+(1/r)*Eq_MMS.diff(r))+k*Eq_MMS\n",
    "\n",
    "MMS.simplify()"
   ]
  },
  {
   "cell_type": "code",
   "execution_count": 45,
   "id": "6563b6fa",
   "metadata": {},
   "outputs": [],
   "source": [
    "f_MMS=sb.lambdify([r,t,Ce,R,dt],Eq_MMS,\"numpy\")\n",
    "f_drMMS=sb.lambdify([r,t,R],drEq_MMS,\"numpy\")"
   ]
  },
  {
   "cell_type": "markdown",
   "id": "5aded3d9",
   "metadata": {},
   "source": [
    "Vérification condition de Dirichlet en r=R"
   ]
  },
  {
   "cell_type": "code",
   "execution_count": 47,
   "id": "ad756c0b",
   "metadata": {},
   "outputs": [
    {
     "data": {
      "image/png": "[encoded data removed]",
      "text/latex": [
       "$\\displaystyle 10.0$"
      ],
      "text/plain": [
       "10.0"
      ]
     },
     "execution_count": 47,
     "metadata": {},
     "output_type": "execute_result"
    }
   ],
   "source": [
    "f_MMS(0.5,1e6,10,0.5,1e6) "
   ]
  },
  {
   "cell_type": "markdown",
   "id": "97ad2f87",
   "metadata": {},
   "source": [
    "Vérification condition de Neumann en r=0"
   ]
  },
  {
   "cell_type": "code",
   "execution_count": 38,
   "id": "c665d11f",
   "metadata": {},
   "outputs": [
    {
     "data": {
      "image/png": "[encoded data removed]",
      "text/latex": [
       "$\\displaystyle 0$"
      ],
      "text/plain": [
       "0"
      ]
     },
     "execution_count": 38,
     "metadata": {},
     "output_type": "execute_result"
    }
   ],
   "source": [
    "f_drMMS(0,1e6,0.5)"
   ]
  },
  {
   "cell_type": "markdown",
   "id": "e492a994",
   "metadata": {},
   "source": [
    "Tracé de la solution MMS pour $dt = 1e6 s$"
   ]
  },
  {
   "cell_type": "code",
   "execution_count": 55,
   "id": "0a6d4476",
   "metadata": {},
   "outputs": [
    {
     "data": {
      "text/plain": [
       "<matplotlib.legend.Legend at 0x7f7db8d306a0>"
      ]
     },
     "execution_count": 55,
     "metadata": {},
     "output_type": "execute_result"
    },
    {
     "data": {
      "image/png": "[encoded data removed]",
      "text/plain": [
       "<Figure size 432x288 with 1 Axes>"
      ]
     },
     "metadata": {
      "needs_background": "light"
     },
     "output_type": "display_data"
    }
   ],
   "source": [
    "Vr = np.linspace(0,0.5,5)\n",
    "plt.plot(Vr,f_MMS(Vr,1e6,10,0.5,1e6),label=\"MMS\")\n",
    "plt.xlabel(\"Rayon (m)\")\n",
    "plt.ylabel(\"Concentration\")\n",
    "plt.grid()\n",
    "plt.legend()"
   ]
  },
  {
   "cell_type": "markdown",
   "id": "da5e8870",
   "metadata": {},
   "source": []
  }
 ],
 "metadata": {
  "kernelspec": {
   "display_name": "Python 3.6.9 ('minfo')",
   "language": "python",
   "name": "python3"
  },
  "language_info": {
   "codemirror_mode": {
    "name": "ipython",
    "version": 3
   },
   "file_extension": ".py",
   "mimetype": "text/x-python",
   "name": "python",
   "nbconvert_exporter": "python",
   "pygments_lexer": "ipython3",
   "version": "3.6.9 |Anaconda, Inc.| (default, Jul 30 2019, 13:42:17) \n[GCC 4.2.1 Compatible Clang 4.0.1 (tags/RELEASE_401/final)]"
  },
  "vscode": {
   "interpreter": {
    "hash": "ac7f97fb0fb92aee6847cfa97da80001ff203c3215da2ab4d6f86db03ed88239"
   }
  }
 },
 "nbformat": 4,
 "nbformat_minor": 5
}
