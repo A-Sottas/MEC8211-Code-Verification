{
 "cells": [
  {
   "cell_type": "code",
   "execution_count": 2,
   "id": "3a43c72e",
   "metadata": {},
   "outputs": [],
   "source": [
    "import sympy as sb\n",
    "sb.init_printing()"
   ]
  },
  {
   "cell_type": "code",
   "execution_count": 65,
   "id": "238fefc7",
   "metadata": {},
   "outputs": [
    {
     "data": {
      "image/png": "[encoded data removed]",
      "text/latex": [
       "$\\displaystyle r^{2} \\cdot \\left(0.5 - r\\right) e^{\\frac{t}{10}} \\sin{\\left(2 \\pi r \\right)} + 10$"
      ],
      "text/plain": [
       "              t                 \n",
       "              ──                \n",
       " 2            10                \n",
       "r ⋅(0.5 - r)⋅ℯ  ⋅sin(2⋅π⋅r) + 10"
      ]
     },
     "execution_count": 65,
     "metadata": {},
     "output_type": "execute_result"
    }
   ],
   "source": [
    "t,r=sb.symbols(\"t,r\")\n",
    "Ce,R=10,0.5\n",
    "T=10\n",
    "D_eff=1e-10\n",
    "k=4e-9\n",
    "\n",
    "Eq_MMS=Ce+(sb.exp(t/T)*sb.sin(sb.pi*r/R))*(R-r)*r**2\n",
    "Eq_MMS"
   ]
  },
  {
   "cell_type": "code",
   "execution_count": 66,
   "id": "059a9f43",
   "metadata": {},
   "outputs": [
    {
     "data": {
      "image/png": "[encoded data removed]",
      "text/latex": [
       "$\\displaystyle 2 \\pi r^{2} \\cdot \\left(0.5 - r\\right) e^{\\frac{t}{10}} \\cos{\\left(2 \\pi r \\right)} - r^{2} e^{\\frac{t}{10}} \\sin{\\left(2 \\pi r \\right)} + 2 r \\left(0.5 - r\\right) e^{\\frac{t}{10}} \\sin{\\left(2 \\pi r \\right)}$"
      ],
      "text/plain": [
       "                  t                   t                              t        \n",
       "                  ──                  ──                             ──       \n",
       "     2            10               2  10                             10       \n",
       "2⋅π⋅r ⋅(0.5 - r)⋅ℯ  ⋅cos(2⋅π⋅r) - r ⋅ℯ  ⋅sin(2⋅π⋅r) + 2⋅r⋅(0.5 - r)⋅ℯ  ⋅sin(2⋅\n",
       "\n",
       "    \n",
       "    \n",
       "    \n",
       "π⋅r)"
      ]
     },
     "execution_count": 66,
     "metadata": {},
     "output_type": "execute_result"
    }
   ],
   "source": [
    "drEq_MMS=sb.diff(Eq_MMS,r)\n",
    "drEq_MMS"
   ]
  },
  {
   "cell_type": "code",
   "execution_count": 67,
   "id": "488d91cc",
   "metadata": {},
   "outputs": [],
   "source": [
    "f_MMS=sb.lambdify([r,t],Eq_MMS,\"numpy\")\n",
    "f_drMMS=sb.lambdify([r,t],drEq_MMS,\"numpy\")"
   ]
  },
  {
   "cell_type": "markdown",
   "id": "fb7b8e1d",
   "metadata": {},
   "source": [
    "Vérification condition de Dirichlet"
   ]
  },
  {
   "cell_type": "code",
   "execution_count": 68,
   "id": "f01fd8e3",
   "metadata": {},
   "outputs": [
    {
     "data": {
      "image/png": "[encoded data removed]",
      "text/latex": [
       "$\\displaystyle 10.0$"
      ],
      "text/plain": [
       "10.0"
      ]
     },
     "execution_count": 68,
     "metadata": {},
     "output_type": "execute_result"
    }
   ],
   "source": [
    "f_MMS(R,0) "
   ]
  },
  {
   "cell_type": "markdown",
   "id": "5cb0f924",
   "metadata": {},
   "source": [
    "Vérification condition de Neumann"
   ]
  },
  {
   "cell_type": "code",
   "execution_count": 69,
   "id": "e27b6061",
   "metadata": {},
   "outputs": [
    {
     "data": {
      "image/png": "[encoded data removed]",
      "text/latex": [
       "$\\displaystyle 0.0$"
      ],
      "text/plain": [
       "0.0"
      ]
     },
     "execution_count": 69,
     "metadata": {},
     "output_type": "execute_result"
    }
   ],
   "source": [
    "f_drMMS(0,0)"
   ]
  },
  {
   "cell_type": "markdown",
   "id": "dbce2e4b",
   "metadata": {},
   "source": [
    "Calcul L(û)"
   ]
  },
  {
   "cell_type": "code",
   "execution_count": 70,
   "id": "149c93e0",
   "metadata": {},
   "outputs": [
    {
     "data": {
      "image/png": "[encoded data removed]",
      "text/latex": [
       "$\\displaystyle 0.100000004 r^{2} \\cdot \\left(0.5 - r\\right) e^{\\frac{t}{10}} \\sin{\\left(2 \\pi r \\right)} - 1.0 \\cdot 10^{-10} \\cdot \\left(4 \\pi^{2} r^{2} \\left(r - 0.5\\right) \\sin{\\left(2 \\pi r \\right)} - 4 \\pi r^{2} \\cos{\\left(2 \\pi r \\right)} - 8 \\pi r \\left(r - 0.5\\right) \\cos{\\left(2 \\pi r \\right)} - 4 r \\sin{\\left(2 \\pi r \\right)} - \\left(2 r - 1.0\\right) \\sin{\\left(2 \\pi r \\right)}\\right) e^{\\frac{t}{10}} + 4.0 \\cdot 10^{-8}$"
      ],
      "text/plain": [
       "                          t                                                   \n",
       "                          ──                                                  \n",
       "             2            10                      ⎛   2  2                    \n",
       "0.100000004⋅r ⋅(0.5 - r)⋅ℯ  ⋅sin(2⋅π⋅r) - 1.0e-10⋅⎝4⋅π ⋅r ⋅(r - 0.5)⋅sin(2⋅π⋅r\n",
       "\n",
       "                                                                              \n",
       "                                                                              \n",
       "         2                                                                    \n",
       ") - 4⋅π⋅r ⋅cos(2⋅π⋅r) - 8⋅π⋅r⋅(r - 0.5)⋅cos(2⋅π⋅r) - 4⋅r⋅sin(2⋅π⋅r) - (2⋅r - 1\n",
       "\n",
       "                 t          \n",
       "                 ──         \n",
       "              ⎞  10         \n",
       ".0)⋅sin(2⋅π⋅r)⎠⋅ℯ   + 4.0e-8"
      ]
     },
     "execution_count": 70,
     "metadata": {},
     "output_type": "execute_result"
    }
   ],
   "source": [
    "MMS=Eq_MMS.diff(t)-D_eff*Eq_MMS.diff(r,2)+k*Eq_MMS\n",
    "\n",
    "MMS"
   ]
  },
  {
   "cell_type": "code",
   "execution_count": null,
   "id": "f3de23dd",
   "metadata": {},
   "outputs": [],
   "source": []
  }
 ],
 "metadata": {
  "kernelspec": {
   "display_name": "Python 3 (ipykernel)",
   "language": "python",
   "name": "python3"
  },
  "language_info": {
   "codemirror_mode": {
    "name": "ipython",
    "version": 3
   },
   "file_extension": ".py",
   "mimetype": "text/x-python",
   "name": "python",
   "nbconvert_exporter": "python",
   "pygments_lexer": "ipython3",
   "version": "3.9.13"
  }
 },
 "nbformat": 4,
 "nbformat_minor": 5
}
