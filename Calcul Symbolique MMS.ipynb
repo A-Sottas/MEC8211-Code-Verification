{
 "cells": [
  {
   "cell_type": "code",
   "execution_count": 2,
   "id": "07cd2ebf",
   "metadata": {},
   "outputs": [],
   "source": [
    "import sympy as sb\n",
    "sb.init_printing()"
   ]
  },
  {
   "cell_type": "code",
   "execution_count": 3,
   "id": "9aa3a770",
   "metadata": {},
   "outputs": [
    {
     "data": {
      "image/png": "[encoded data removed]",
      "text/latex": [
       "$\\displaystyle Ce + \\frac{t \\left(1 - \\frac{r^{2}}{R^{2}}\\right) \\cos{\\left(r \\right)}}{dt}$"
      ],
      "text/plain": [
       "       ⎛     2⎞       \n",
       "       ⎜    r ⎟       \n",
       "     t⋅⎜1 - ──⎟⋅cos(r)\n",
       "       ⎜     2⎟       \n",
       "       ⎝    R ⎠       \n",
       "Ce + ─────────────────\n",
       "             dt       "
      ]
     },
     "execution_count": 3,
     "metadata": {},
     "output_type": "execute_result"
    }
   ],
   "source": [
    "t,r=sb.symbols(\"t,r\")\n",
    "dt=sb.symbols(\"dt\")\n",
    "Ce,R=sb.symbols(\"Ce,R\")\n",
    "#dt,Ce,R,D_eff,k=24*365*3600,10,0.5,1e-10,4e-9\n",
    "D_eff,k=sb.symbols(\"D_eff,k\")\n",
    "\n",
    "Eq_MMS=Ce+(t/dt*sb.cos(r))*(1-(r/R)**2)\n",
    "Eq_MMS"
   ]
  },
  {
   "cell_type": "code",
   "execution_count": 4,
   "id": "0baacd54",
   "metadata": {},
   "outputs": [
    {
     "data": {
      "image/png": "[encoded data removed]",
      "text/latex": [
       "$\\displaystyle \\frac{t \\left(- 2 r \\cos{\\left(r \\right)} + \\left(- R^{2} + r^{2}\\right) \\sin{\\left(r \\right)}\\right)}{R^{2} dt}$"
      ],
      "text/plain": [
       "  ⎛              ⎛   2    2⎞       ⎞\n",
       "t⋅⎝-2⋅r⋅cos(r) + ⎝- R  + r ⎠⋅sin(r)⎠\n",
       "────────────────────────────────────\n",
       "                2                   \n",
       "               R ⋅dt                "
      ]
     },
     "execution_count": 4,
     "metadata": {},
     "output_type": "execute_result"
    }
   ],
   "source": [
    "drEq_MMS=sb.diff(Eq_MMS,r).simplify()\n",
    "drEq_MMS"
   ]
  },
  {
   "cell_type": "code",
   "execution_count": 210,
   "id": "6563b6fa",
   "metadata": {},
   "outputs": [],
   "source": [
    "f_MMS=sb.lambdify([r,t],Eq_MMS,\"numpy\")\n",
    "f_drMMS=sb.lambdify([r,t],drEq_MMS,\"numpy\")"
   ]
  },
  {
   "cell_type": "markdown",
   "id": "5aded3d9",
   "metadata": {},
   "source": [
    "Vérification condition de Dirichlet"
   ]
  },
  {
   "cell_type": "code",
   "execution_count": 217,
   "id": "ad756c0b",
   "metadata": {},
   "outputs": [
    {
     "data": {
      "image/png": "[encoded data removed]",
      "text/latex": [
       "$\\displaystyle 10.0$"
      ],
      "text/plain": [
       "10.0"
      ]
     },
     "execution_count": 217,
     "metadata": {},
     "output_type": "execute_result"
    }
   ],
   "source": [
    "f_MMS(R,1e8) "
   ]
  },
  {
   "cell_type": "code",
   "execution_count": 212,
   "id": "707f170d",
   "metadata": {},
   "outputs": [
    {
     "data": {
      "image/png": "[encoded data removed]",
      "text/latex": [
       "$\\displaystyle 996.301369863014$"
      ],
      "text/plain": [
       "996.3013698630136"
      ]
     },
     "execution_count": 212,
     "metadata": {},
     "output_type": "execute_result"
    }
   ],
   "source": [
    "f_MMS(0,1000*24*360*3600) "
   ]
  },
  {
   "cell_type": "markdown",
   "id": "97ad2f87",
   "metadata": {},
   "source": [
    "Vérification condition de Neumann"
   ]
  },
  {
   "cell_type": "code",
   "execution_count": 213,
   "id": "c665d11f",
   "metadata": {},
   "outputs": [
    {
     "data": {
      "image/png": "[encoded data removed]",
      "text/latex": [
       "$\\displaystyle 0.0$"
      ],
      "text/plain": [
       "-0.0"
      ]
     },
     "execution_count": 213,
     "metadata": {},
     "output_type": "execute_result"
    }
   ],
   "source": [
    "f_drMMS(0,0)"
   ]
  },
  {
   "cell_type": "markdown",
   "id": "8ec49673",
   "metadata": {},
   "source": [
    "Calcul L(û)"
   ]
  },
  {
   "cell_type": "code",
   "execution_count": 207,
   "id": "e492a994",
   "metadata": {},
   "outputs": [
    {
     "data": {
      "image/png": "[encoded data removed]",
      "text/latex": [
       "$\\displaystyle \\frac{D_{eff} t \\left(R^{2} r \\cos{\\left(r \\right)} + R^{2} \\sin{\\left(r \\right)} - r^{3} \\cos{\\left(r \\right)} - 5 r^{2} \\sin{\\left(r \\right)} + 4 r \\cos{\\left(r \\right)}\\right) + r \\left(k \\left(Ce R^{2} dt + t \\left(R^{2} - r^{2}\\right) \\cos{\\left(r \\right)}\\right) + \\left(R^{2} - r^{2}\\right) \\cos{\\left(r \\right)}\\right)}{R^{2} dt r}$"
      ],
      "text/plain": [
       "        ⎛ 2             2           3             2                    ⎞     ⎛\n",
       "D_eff⋅t⋅⎝R ⋅r⋅cos(r) + R ⋅sin(r) - r ⋅cos(r) - 5⋅r ⋅sin(r) + 4⋅r⋅cos(r)⎠ + r⋅⎝\n",
       "──────────────────────────────────────────────────────────────────────────────\n",
       "                                                               2              \n",
       "                                                              R ⋅dt⋅r         \n",
       "\n",
       "  ⎛    2        ⎛ 2    2⎞       ⎞   ⎛ 2    2⎞       ⎞\n",
       "k⋅⎝Ce⋅R ⋅dt + t⋅⎝R  - r ⎠⋅cos(r)⎠ + ⎝R  - r ⎠⋅cos(r)⎠\n",
       "─────────────────────────────────────────────────────\n",
       "                                                     \n",
       "                                                     "
      ]
     },
     "execution_count": 207,
     "metadata": {},
     "output_type": "execute_result"
    }
   ],
   "source": [
    "MMS=Eq_MMS.diff(t)-D_eff*(Eq_MMS.diff(r,2)+(1/r)*Eq_MMS.diff(r))+k*Eq_MMS\n",
    "\n",
    "MMS.simplify()"
   ]
  },
  {
   "cell_type": "code",
   "execution_count": null,
   "id": "d40abd24",
   "metadata": {},
   "outputs": [],
   "source": []
  },
  {
   "cell_type": "code",
   "execution_count": null,
   "id": "8258aa22",
   "metadata": {},
   "outputs": [],
   "source": []
  }
 ],
 "metadata": {
  "kernelspec": {
   "display_name": "Python 3 (ipykernel)",
   "language": "python",
   "name": "python3"
  },
  "language_info": {
   "codemirror_mode": {
    "name": "ipython",
    "version": 3
   },
   "file_extension": ".py",
   "mimetype": "text/x-python",
   "name": "python",
   "nbconvert_exporter": "python",
   "pygments_lexer": "ipython3",
   "version": "3.9.13"
  }
 },
 "nbformat": 4,
 "nbformat_minor": 5
}
